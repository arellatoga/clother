{
 "cells": [
  {
   "cell_type": "code",
   "execution_count": null,
   "metadata": {},
   "outputs": [],
   "source": [
    "from PIL import Image\n",
    "\n",
    "dir_raw = \"man_shirt\"\n",
    "dir = f\"{dir_raw}\"\n",
    "image = Image.open(f\"{dir}/source_foreground.jpg\")\n",
    "masked_image = Image.open(f\"{dir}/destination_raw_image.jpg\")\n",
    "w = masked_image.width\n",
    "h = masked_image.height\n",
    "masked_image = masked_image\n",
    "mask = Image.open(f\"{dir}/destination_foreground_mask.jpg\").resize((w, h))\n",
    "\n",
    "additional_prompt_positive = \"t-shirt, male body\"\n",
    "additional_prompt_negative = \"\"\n",
    "\n",
    "def image_grid(imgs, rows, cols):\n",
    "    assert len(imgs) == rows*cols\n",
    "\n",
    "    w, h = imgs[0].size\n",
    "    grid = Image.new('RGB', size=(cols*w, rows*h))\n",
    "    grid_w, grid_h = grid.size\n",
    "    \n",
    "    for i, img in enumerate(imgs):\n",
    "        grid.paste(img, box=(i%cols*w, i//cols*h))\n",
    "    return grid\n",
    "\n",
    "image_grid([image, masked_image, mask], 1, 3)"
   ]
  },
  {
   "cell_type": "code",
   "execution_count": null,
   "metadata": {},
   "outputs": [],
   "source": [
    "from diffusers import StableDiffusionInpaintPipeline\n",
    "from diffusers import AutoencoderKL\n",
    "from ipadapter.ip_adapter import IPAdapter\n",
    "\n",
    "pipe = StableDiffusionInpaintPipeline.from_pretrained(\n",
    "    \"runwayml/stable-diffusion-inpainting\",\n",
    "    vae=AutoencoderKL.from_pretrained(\"stabilityai/sd-vae-ft-ema\"),\n",
    "    feature_extractor=None,\n",
    "    safety_checker=None\n",
    ").to(\"cpu\")\n",
    "\n",
    "img_encoder_path = \"ipadapter/models/image_encoder/\"\n",
    "ip_cpkt = \"ipadapter/models/ip-adapter_sd15_light.bin\"\n",
    "ip_model = IPAdapter(pipe, img_encoder_path, ip_cpkt, \"cpu\")\n"
   ]
  },
  {
   "cell_type": "code",
   "execution_count": null,
   "metadata": {},
   "outputs": [],
   "source": [
    "import os\n",
    "import shutil\n",
    "from matplotlib import pyplot as plt\n",
    "\n",
    "\n",
    "images = ip_model.generate(\n",
    "    pil_image=image,\n",
    "    num_samples=1,\n",
    "    num_inference_steps=50,\n",
    "    seed=42,\n",
    "    image=masked_image,\n",
    "    mask_image=mask,\n",
    "    strength=0.75,\n",
    "    prompt=f\"{additional_prompt_positive}, photorealistic, perfect body, beautiful skin, realistic skin, natural skin\",\n",
    "    negative_prompt=f\"{additional_prompt_negative}, ugly, bad quality, bad anatomy, deformed body, deformed hands, deformed feet, deformed face, deformed clothing, deformed skin, bad skin, leggings, tights, stockings\",\n",
    "    width=512, height=512\n",
    ")\n",
    "\n",
    "for idx, image in enumerate(images):\n",
    "    image = image.resize((masked_image.width, masked_image.height))\n",
    "    plt.figure(figsize=(10,10))\n",
    "    plt.imshow(image)\n",
    "    plt.axis('off')\n",
    "    plt.savefig(os.path.join(dir, f'final_{idx}.jpg'), bbox_inches=\"tight\", dpi=300, pad_inches=0.0)\n"
   ]
  }
 ],
 "metadata": {
  "kernelspec": {
   "display_name": "Grounded-Segment-Anything-RbStg18O",
   "language": "python",
   "name": "python3"
  },
  "language_info": {
   "codemirror_mode": {
    "name": "ipython",
    "version": 3
   },
   "file_extension": ".py",
   "mimetype": "text/x-python",
   "name": "python",
   "nbconvert_exporter": "python",
   "pygments_lexer": "ipython3",
   "version": "3.12.3"
  }
 },
 "nbformat": 4,
 "nbformat_minor": 2
}
